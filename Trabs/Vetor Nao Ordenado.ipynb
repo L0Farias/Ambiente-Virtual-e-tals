{
 "cells": [
  {
   "cell_type": "code",
   "execution_count": 1,
   "metadata": {},
   "outputs": [],
   "source": [
    "import numpy as np"
   ]
  },
  {
   "cell_type": "code",
   "execution_count": 2,
   "metadata": {},
   "outputs": [],
   "source": [
    "class VetorNaoOrdenado:\n",
    "\n",
    "    def __init__(self, capacidade):  # método construtor\n",
    "        self.capacidade = capacidade  # atributo\n",
    "        self.ultima_posicao = -1  # atributo\n",
    "        self.valores = np.empty(\n",
    "            self.capacidade, dtype=int\n",
    "        )  # array vario pelo .empty( self.capacidade será o shape e será criado de acordo com o que o usuário passar como parâmetro). dtype=int = tipo inteiro\n",
    "\n",
    "    # O(n)\n",
    "    def imprime(self):  # imprime os valores do vetor (array)\n",
    "        if self.ultima_posicao == -1:  # se o array estiver vazio\n",
    "            print(\"O vetor está vazio\")\n",
    "        else:\n",
    "            for i in range(\n",
    "                self.ultima_posicao + 1\n",
    "            ):  # percorre o array de acordo com a quantidade de elementos\n",
    "                print(i, \" - \", self.valores[i])  # imprime o valor\n",
    "\n",
    "    # O(1) - O(2)\n",
    "    def insere(self, valor):  # insere um valor no array\n",
    "        if (\n",
    "            self.ultima_posicao == self.capacidade - 1\n",
    "        ):  # se o array estiver cheio (ultima_posicao = capacidade - 1)\n",
    "            print(\"Capacidade máxima atingida\")\n",
    "        else:  # se o array não estiver cheio\n",
    "            self.ultima_posicao += 1  # incrementa a ultima_posicao\n",
    "            self.valores[self.ultima_posicao] = valor  # adiciona o valor\n",
    "\n",
    "    # O(n)\n",
    "    def pesquisar(\n",
    "        self, valor\n",
    "    ):  # pesquisa um valor no array. UTILIZAREMOS A PESQUISA LINEAR!\n",
    "        for i in range(self.ultima_posicao + 1):  # percorre o array\n",
    "            if valor == self.valores[i]:  # se o valor for igual ao valor do array\n",
    "                return i  # retorna a posicao\n",
    "        return -1  # se o valor não for encontrado\n",
    "\n",
    "    # O(n)\n",
    "    def excluir(self, valor):  # exclui um valor no array\n",
    "        posicao = self.pesquisar(valor)\n",
    "        if posicao == -1:  # se o valor não for encontrado\n",
    "            return -1  #\n",
    "        else:  # se o valor for encontrado\n",
    "            for i in range(\n",
    "                posicao, self.ultima_posicao\n",
    "            ):  # percorre o array de acordo com a quantidade de elementos\n",
    "                self.valores[i] = self.valores[i + 1]  # substitui o valor\n",
    "\n",
    "            self.ultima_posicao -= 1  # decrementa a ultima_posicao"
   ]
  },
  {
   "cell_type": "code",
   "execution_count": 3,
   "metadata": {},
   "outputs": [],
   "source": [
    "vetor = VetorNaoOrdenado(5)"
   ]
  },
  {
   "cell_type": "code",
   "execution_count": 4,
   "metadata": {},
   "outputs": [
    {
     "name": "stdout",
     "output_type": "stream",
     "text": [
      "O vetor está vazio\n"
     ]
    }
   ],
   "source": [
    "vetor.imprime()"
   ]
  },
  {
   "cell_type": "code",
   "execution_count": 5,
   "metadata": {},
   "outputs": [],
   "source": [
    "vetor.insere(2)"
   ]
  },
  {
   "cell_type": "code",
   "execution_count": 6,
   "metadata": {},
   "outputs": [
    {
     "name": "stdout",
     "output_type": "stream",
     "text": [
      "0  -  2\n"
     ]
    }
   ],
   "source": [
    "vetor.imprime()"
   ]
  },
  {
   "cell_type": "code",
   "execution_count": 7,
   "metadata": {},
   "outputs": [],
   "source": [
    "vetor.insere(3)\n",
    "vetor.insere(5)\n",
    "vetor.insere(8)\n",
    "vetor.insere(1)"
   ]
  },
  {
   "cell_type": "code",
   "execution_count": 8,
   "metadata": {},
   "outputs": [
    {
     "name": "stdout",
     "output_type": "stream",
     "text": [
      "0  -  2\n",
      "1  -  3\n",
      "2  -  5\n",
      "3  -  8\n",
      "4  -  1\n"
     ]
    }
   ],
   "source": [
    "vetor.imprime()"
   ]
  },
  {
   "cell_type": "code",
   "execution_count": 9,
   "metadata": {},
   "outputs": [
    {
     "name": "stdout",
     "output_type": "stream",
     "text": [
      "Capacidade máxima atingida\n"
     ]
    }
   ],
   "source": [
    "vetor.insere(7)"
   ]
  },
  {
   "cell_type": "code",
   "execution_count": 10,
   "metadata": {},
   "outputs": [
    {
     "name": "stdout",
     "output_type": "stream",
     "text": [
      "0  -  2\n",
      "1  -  3\n",
      "2  -  5\n",
      "3  -  8\n",
      "4  -  1\n"
     ]
    }
   ],
   "source": [
    "vetor.imprime()"
   ]
  },
  {
   "cell_type": "code",
   "execution_count": 11,
   "metadata": {},
   "outputs": [
    {
     "data": {
      "text/plain": [
       "3"
      ]
     },
     "execution_count": 11,
     "metadata": {},
     "output_type": "execute_result"
    }
   ],
   "source": [
    "vetor.pesquisar(8)"
   ]
  },
  {
   "cell_type": "code",
   "execution_count": 12,
   "metadata": {},
   "outputs": [
    {
     "data": {
      "text/plain": [
       "-1"
      ]
     },
     "execution_count": 12,
     "metadata": {},
     "output_type": "execute_result"
    }
   ],
   "source": [
    "vetor.pesquisar(\n",
    "    9\n",
    ")  # valor não encontrado... o que é o pior caso juntamente com o número a ser achado na última posição."
   ]
  },
  {
   "cell_type": "code",
   "execution_count": 13,
   "metadata": {},
   "outputs": [
    {
     "data": {
      "text/plain": [
       "1"
      ]
     },
     "execution_count": 13,
     "metadata": {},
     "output_type": "execute_result"
    }
   ],
   "source": [
    "vetor.pesquisar(3)"
   ]
  },
  {
   "cell_type": "code",
   "execution_count": 14,
   "metadata": {},
   "outputs": [
    {
     "data": {
      "text/plain": [
       "4"
      ]
     },
     "execution_count": 14,
     "metadata": {},
     "output_type": "execute_result"
    }
   ],
   "source": [
    "vetor.ultima_posicao"
   ]
  },
  {
   "cell_type": "code",
   "execution_count": 15,
   "metadata": {},
   "outputs": [
    {
     "name": "stdout",
     "output_type": "stream",
     "text": [
      "0  -  2\n",
      "1  -  3\n",
      "2  -  5\n",
      "3  -  8\n",
      "4  -  1\n"
     ]
    }
   ],
   "source": [
    "vetor.imprime()"
   ]
  },
  {
   "cell_type": "code",
   "execution_count": 16,
   "metadata": {},
   "outputs": [],
   "source": [
    "vetor.excluir(5)"
   ]
  },
  {
   "cell_type": "code",
   "execution_count": 17,
   "metadata": {},
   "outputs": [
    {
     "name": "stdout",
     "output_type": "stream",
     "text": [
      "0  -  2\n",
      "1  -  3\n",
      "2  -  8\n",
      "3  -  1\n"
     ]
    }
   ],
   "source": [
    "vetor.imprime()"
   ]
  },
  {
   "cell_type": "code",
   "execution_count": 18,
   "metadata": {},
   "outputs": [
    {
     "name": "stdout",
     "output_type": "stream",
     "text": [
      "0  -  2\n",
      "1  -  3\n",
      "2  -  8\n"
     ]
    }
   ],
   "source": [
    "vetor.excluir(1)\n",
    "vetor.imprime()"
   ]
  },
  {
   "cell_type": "code",
   "execution_count": 19,
   "metadata": {},
   "outputs": [
    {
     "name": "stdout",
     "output_type": "stream",
     "text": [
      "0  -  3\n",
      "1  -  8\n"
     ]
    }
   ],
   "source": [
    "vetor.excluir(2)\n",
    "vetor.imprime()"
   ]
  },
  {
   "cell_type": "code",
   "execution_count": 20,
   "metadata": {},
   "outputs": [
    {
     "name": "stdout",
     "output_type": "stream",
     "text": [
      "0  -  3\n",
      "1  -  8\n",
      "2  -  5\n",
      "3  -  1\n"
     ]
    }
   ],
   "source": [
    "vetor.insere(5)\n",
    "vetor.insere(1)\n",
    "vetor.imprime()"
   ]
  }
 ],
 "metadata": {
  "kernelspec": {
   "display_name": "Ambient",
   "language": "python",
   "name": "python3"
  },
  "language_info": {
   "codemirror_mode": {
    "name": "ipython",
    "version": 3
   },
   "file_extension": ".py",
   "mimetype": "text/x-python",
   "name": "python",
   "nbconvert_exporter": "python",
   "pygments_lexer": "ipython3",
   "version": "3.12.2"
  }
 },
 "nbformat": 4,
 "nbformat_minor": 2
}
